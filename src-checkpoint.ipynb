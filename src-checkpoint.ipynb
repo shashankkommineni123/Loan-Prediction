{
 "cells": [
  {
   "cell_type": "markdown",
   "metadata": {
    "id": "oVRmBo_0nJAt"
   },
   "source": [
    "# This notebook is prepared by ApplAi's Technical And Training Depratment. \n",
    "- Please Don't use it outside the training without asking for permission as it's considered as Violation of Intellectual property rights\n",
    "\n",
    "![ApplAi's Logo](https://media-exp1.licdn.com/dms/image/C4E0BAQHGLGltI2rzuQ/company-logo_200_200/0?e=2159024400&v=beta&t=adq8rNV09dPC6egdJMnfARt6Aq0TC9bSomFvFtm50WM)"
   ]
  },
  {
   "cell_type": "markdown",
   "metadata": {
    "id": "qmNdMvHYnJAy"
   },
   "source": [
    "### Task 1: Importing libraries and Exploring the Dataset.\n",
    "\n",
    "### Task 2: Definining Exploratory Data Analysis with an overview of the whole project .\n",
    "\n",
    "### Task 3: Checking missing values and Outliers & Creating visual methods to analyze the data.\n",
    "\n",
    "### Task 4: creat a model that fits the data\n",
    "\n",
    "### Task 5: creating an accurecy table\n"
   ]
  },
  {
   "cell_type": "markdown",
   "metadata": {
    "id": "wLWo0YZ3nJAz"
   },
   "source": [
    "### "
   ]
  },
  {
   "cell_type": "markdown",
   "metadata": {
    "id": "iQcRX12VnJA0"
   },
   "source": [
    "### Task 1: Importing libraries and Exploring the Dataset."
   ]
  },
  {
   "cell_type": "code",
   "execution_count": null,
   "metadata": {
    "id": "OudDlQbYnJA0"
   },
   "outputs": [],
   "source": []
  },
  {
   "cell_type": "markdown",
   "metadata": {
    "id": "kY0iwXDenJA2"
   },
   "source": [
    "### Task 2: Definining Exploratory Data Analysis with an overview of the whole project "
   ]
  },
  {
   "cell_type": "code",
   "execution_count": null,
   "metadata": {
    "id": "9t8pFcJ_nJA3"
   },
   "outputs": [],
   "source": []
  },
  {
   "cell_type": "code",
   "execution_count": null,
   "metadata": {
    "id": "Mo86fj8fnJA3"
   },
   "outputs": [],
   "source": []
  },
  {
   "cell_type": "code",
   "execution_count": null,
   "metadata": {
    "id": "gqfef4RCnJA4"
   },
   "outputs": [],
   "source": []
  },
  {
   "cell_type": "markdown",
   "metadata": {
    "id": "rHUfsK_5nJA6"
   },
   "source": [
    "### Task 3: Checking missing values and Outliers & Creating visual methods to analyze the data."
   ]
  },
  {
   "cell_type": "code",
   "execution_count": null,
   "metadata": {
    "id": "k_OYju-znJA7"
   },
   "outputs": [],
   "source": []
  },
  {
   "cell_type": "markdown",
   "metadata": {
    "id": "l7H8c8RlnJA_"
   },
   "source": [
    "### Task 4: creat a model that fits the data"
   ]
  },
  {
   "cell_type": "code",
   "execution_count": null,
   "metadata": {
    "id": "AIijpvD2npZs"
   },
   "outputs": [],
   "source": []
  },
  {
   "cell_type": "markdown",
   "metadata": {
    "id": "or5AuBLGnJBC"
   },
   "source": [
    "### Task 5: creating an accurecy table"
   ]
  },
  {
   "cell_type": "code",
   "execution_count": null,
   "metadata": {
    "id": "ahqgfvwdnJBF"
   },
   "outputs": [],
   "source": []
  }
 ],
 "metadata": {
  "colab": {
   "name": "Project Template.ipynb",
   "provenance": []
  },
  "kernelspec": {
   "display_name": "Python 3 (ipykernel)",
   "language": "python",
   "name": "python3"
  },
  "language_info": {
   "codemirror_mode": {
    "name": "ipython",
    "version": 3
   },
   "file_extension": ".py",
   "mimetype": "text/x-python",
   "name": "python",
   "nbconvert_exporter": "python",
   "pygments_lexer": "ipython3",
   "version": "3.9.13"
  }
 },
 "nbformat": 4,
 "nbformat_minor": 1
}
