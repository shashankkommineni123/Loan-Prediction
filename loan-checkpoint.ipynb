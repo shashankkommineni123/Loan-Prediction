{
 "cells": [
  {
   "cell_type": "code",
   "execution_count": 1,
   "id": "34bb3a4d-1cdf-4fc6-b422-496c3be6b230",
   "metadata": {},
   "outputs": [],
   "source": [
    "# Importante Required Libraries\n",
    "import pandas as pd\n",
    "from sklearn.linear_model import LogisticRegression\n",
    "from sklearn.svm import SVC\n",
    "from sklearn.tree import DecisionTreeClassifier\n",
    "from sklearn.model_selection import train_test_split\n",
    "from sklearn.preprocessing import StandardScaler\n",
    "from sklearn.preprocessing import LabelEncoder\n",
    "from sklearn.metrics import accuracy_score\n",
    "import matplotlib.pyplot as plt\n",
    "from sklearn import metrics\n",
    "from sklearn.neighbors import KNeighborsClassifier\n",
    "import numpy as np"
   ]
  },
  {
   "cell_type": "code",
   "execution_count": 2,
   "id": "87fbf6a1-c2a3-4036-b3af-f7216bb5870b",
   "metadata": {},
   "outputs": [],
   "source": [
    "import warnings\n",
    "warnings.filterwarnings(\"ignore\")"
   ]
  },
  {
   "cell_type": "code",
   "execution_count": 3,
   "id": "ad483401-4fc7-4124-8ff3-1bfbcf621eec",
   "metadata": {},
   "outputs": [
    {
     "name": "stdout",
     "output_type": "stream",
     "text": [
      "    Loan_ID Gender Married Dependents     Education Self_Employed  \\\n",
      "0  LP001002   Male      No          0      Graduate            No   \n",
      "1  LP001003   Male     Yes          1      Graduate            No   \n",
      "2  LP001005   Male     Yes          0      Graduate           Yes   \n",
      "3  LP001006   Male     Yes          0  Not Graduate            No   \n",
      "4  LP001008   Male      No          0      Graduate            No   \n",
      "\n",
      "   ApplicantIncome  CoapplicantIncome  LoanAmount  Loan_Amount_Term  \\\n",
      "0             5849                0.0         NaN             360.0   \n",
      "1             4583             1508.0       128.0             360.0   \n",
      "2             3000                0.0        66.0             360.0   \n",
      "3             2583             2358.0       120.0             360.0   \n",
      "4             6000                0.0       141.0             360.0   \n",
      "\n",
      "   Credit_History Property_Area Loan_Status  \n",
      "0             1.0         Urban           Y  \n",
      "1             1.0         Rural           N  \n",
      "2             1.0         Urban           Y  \n",
      "3             1.0         Urban           Y  \n",
      "4             1.0         Urban           Y  \n"
     ]
    }
   ],
   "source": [
    "# Read The Dataset\n",
    "data = pd.read_csv('loan_data.csv')\n",
    "print(data.head())"
   ]
  },
  {
   "cell_type": "code",
   "execution_count": 4,
   "id": "f8cce626-4fe0-47d0-a639-828613404d67",
   "metadata": {},
   "outputs": [
    {
     "name": "stdout",
     "output_type": "stream",
     "text": [
      "Column Names :\n",
      " Index(['Loan_ID', 'Gender', 'Married', 'Dependents', 'Education',\n",
      "       'Self_Employed', 'ApplicantIncome', 'CoapplicantIncome', 'LoanAmount',\n",
      "       'Loan_Amount_Term', 'Credit_History', 'Property_Area', 'Loan_Status'],\n",
      "      dtype='object')\n"
     ]
    }
   ],
   "source": [
    "print('Column Names :\\n', data.columns)"
   ]
  },
  {
   "cell_type": "code",
   "execution_count": 5,
   "id": "df735ede-55bc-43a2-979d-77d2528bef70",
   "metadata": {},
   "outputs": [],
   "source": [
    "#Label Encode The Target Variable\n",
    "encode = LabelEncoder()\n",
    "data.Loan_Status = encode.fit_transform(data.Loan_Status)"
   ]
  },
  {
   "cell_type": "code",
   "execution_count": 6,
   "id": "ff5b4e17-e572-4024-abe4-cd696ee369cf",
   "metadata": {},
   "outputs": [
    {
     "name": "stdout",
     "output_type": "stream",
     "text": [
      "    Loan_ID Gender Married Dependents     Education Self_Employed  \\\n",
      "0  LP001002   Male      No          0      Graduate            No   \n",
      "1  LP001003   Male     Yes          1      Graduate            No   \n",
      "2  LP001005   Male     Yes          0      Graduate           Yes   \n",
      "3  LP001006   Male     Yes          0  Not Graduate            No   \n",
      "4  LP001008   Male      No          0      Graduate            No   \n",
      "\n",
      "   ApplicantIncome  CoapplicantIncome  LoanAmount  Loan_Amount_Term  \\\n",
      "0             5849                0.0         NaN             360.0   \n",
      "1             4583             1508.0       128.0             360.0   \n",
      "2             3000                0.0        66.0             360.0   \n",
      "3             2583             2358.0       120.0             360.0   \n",
      "4             6000                0.0       141.0             360.0   \n",
      "\n",
      "   Credit_History Property_Area  Loan_Status  \n",
      "0             1.0         Urban            1  \n",
      "1             1.0         Rural            0  \n",
      "2             1.0         Urban            1  \n",
      "3             1.0         Urban            1  \n",
      "4             1.0         Urban            1  \n"
     ]
    }
   ],
   "source": [
    "print(data.head())"
   ]
  },
  {
   "cell_type": "code",
   "execution_count": 7,
   "id": "0cbb9c6f-1763-49dd-ad08-ec04691e0da3",
   "metadata": {},
   "outputs": [
    {
     "name": "stdout",
     "output_type": "stream",
     "text": [
      "Shape of data before dropping the rows that have null values :\n",
      " (614, 13)\n"
     ]
    }
   ],
   "source": [
    "print('Shape of data before dropping the rows that have null values :''\\n', data.shape)"
   ]
  },
  {
   "cell_type": "code",
   "execution_count": 8,
   "id": "024c01ac-6ecb-462e-82a5-2f20db052911",
   "metadata": {
    "tags": []
   },
   "outputs": [
    {
     "data": {
      "text/html": [
       "<div>\n",
       "<style scoped>\n",
       "    .dataframe tbody tr th:only-of-type {\n",
       "        vertical-align: middle;\n",
       "    }\n",
       "\n",
       "    .dataframe tbody tr th {\n",
       "        vertical-align: top;\n",
       "    }\n",
       "\n",
       "    .dataframe thead th {\n",
       "        text-align: right;\n",
       "    }\n",
       "</style>\n",
       "<table border=\"1\" class=\"dataframe\">\n",
       "  <thead>\n",
       "    <tr style=\"text-align: right;\">\n",
       "      <th></th>\n",
       "      <th>Total</th>\n",
       "      <th>Percent</th>\n",
       "    </tr>\n",
       "  </thead>\n",
       "  <tbody>\n",
       "    <tr>\n",
       "      <th>Credit_History</th>\n",
       "      <td>50</td>\n",
       "      <td>0.081433</td>\n",
       "    </tr>\n",
       "    <tr>\n",
       "      <th>Self_Employed</th>\n",
       "      <td>32</td>\n",
       "      <td>0.052117</td>\n",
       "    </tr>\n",
       "    <tr>\n",
       "      <th>LoanAmount</th>\n",
       "      <td>22</td>\n",
       "      <td>0.035831</td>\n",
       "    </tr>\n",
       "    <tr>\n",
       "      <th>Dependents</th>\n",
       "      <td>15</td>\n",
       "      <td>0.024430</td>\n",
       "    </tr>\n",
       "    <tr>\n",
       "      <th>Loan_Amount_Term</th>\n",
       "      <td>14</td>\n",
       "      <td>0.022801</td>\n",
       "    </tr>\n",
       "    <tr>\n",
       "      <th>Gender</th>\n",
       "      <td>13</td>\n",
       "      <td>0.021173</td>\n",
       "    </tr>\n",
       "    <tr>\n",
       "      <th>Married</th>\n",
       "      <td>3</td>\n",
       "      <td>0.004886</td>\n",
       "    </tr>\n",
       "    <tr>\n",
       "      <th>Loan_ID</th>\n",
       "      <td>0</td>\n",
       "      <td>0.000000</td>\n",
       "    </tr>\n",
       "    <tr>\n",
       "      <th>Education</th>\n",
       "      <td>0</td>\n",
       "      <td>0.000000</td>\n",
       "    </tr>\n",
       "    <tr>\n",
       "      <th>ApplicantIncome</th>\n",
       "      <td>0</td>\n",
       "      <td>0.000000</td>\n",
       "    </tr>\n",
       "    <tr>\n",
       "      <th>CoapplicantIncome</th>\n",
       "      <td>0</td>\n",
       "      <td>0.000000</td>\n",
       "    </tr>\n",
       "    <tr>\n",
       "      <th>Property_Area</th>\n",
       "      <td>0</td>\n",
       "      <td>0.000000</td>\n",
       "    </tr>\n",
       "    <tr>\n",
       "      <th>Loan_Status</th>\n",
       "      <td>0</td>\n",
       "      <td>0.000000</td>\n",
       "    </tr>\n",
       "  </tbody>\n",
       "</table>\n",
       "</div>"
      ],
      "text/plain": [
       "                   Total   Percent\n",
       "Credit_History        50  0.081433\n",
       "Self_Employed         32  0.052117\n",
       "LoanAmount            22  0.035831\n",
       "Dependents            15  0.024430\n",
       "Loan_Amount_Term      14  0.022801\n",
       "Gender                13  0.021173\n",
       "Married                3  0.004886\n",
       "Loan_ID                0  0.000000\n",
       "Education              0  0.000000\n",
       "ApplicantIncome        0  0.000000\n",
       "CoapplicantIncome      0  0.000000\n",
       "Property_Area          0  0.000000\n",
       "Loan_Status            0  0.000000"
      ]
     },
     "execution_count": 8,
     "metadata": {},
     "output_type": "execute_result"
    }
   ],
   "source": [
    "#missing data\n",
    "total = data.isnull().sum().sort_values(ascending=False)\n",
    "percent = (data.isnull().sum()/data.isnull().count()).sort_values(ascending=False)\n",
    "pd.concat([total, percent], axis=1, keys=['Total', 'Percent'])"
   ]
  },
  {
   "cell_type": "code",
   "execution_count": 9,
   "id": "0a6e5a81-4a05-4d51-a50b-ea8bb81bd7ad",
   "metadata": {},
   "outputs": [],
   "source": [
    "# Dropping The Rows That Have Null Values\n",
    "data.dropna(inplace=True)"
   ]
  },
  {
   "cell_type": "code",
   "execution_count": 10,
   "id": "1a5ca235-c0f0-4a3f-b0b3-642c12e95879",
   "metadata": {},
   "outputs": [
    {
     "name": "stdout",
     "output_type": "stream",
     "text": [
      "Shape of data after dropping the rows that have null values :\n",
      " (480, 13)\n"
     ]
    }
   ],
   "source": [
    "print('Shape of data after dropping the rows that have null values :''\\n', data.shape)"
   ]
  },
  {
   "cell_type": "code",
   "execution_count": 11,
   "id": "bd99051e-7604-488c-b2ee-08a1f68106d3",
   "metadata": {
    "tags": []
   },
   "outputs": [
    {
     "data": {
      "text/html": [
       "<div>\n",
       "<style scoped>\n",
       "    .dataframe tbody tr th:only-of-type {\n",
       "        vertical-align: middle;\n",
       "    }\n",
       "\n",
       "    .dataframe tbody tr th {\n",
       "        vertical-align: top;\n",
       "    }\n",
       "\n",
       "    .dataframe thead th {\n",
       "        text-align: right;\n",
       "    }\n",
       "</style>\n",
       "<table border=\"1\" class=\"dataframe\">\n",
       "  <thead>\n",
       "    <tr style=\"text-align: right;\">\n",
       "      <th></th>\n",
       "      <th>Total</th>\n",
       "      <th>Percent</th>\n",
       "    </tr>\n",
       "  </thead>\n",
       "  <tbody>\n",
       "    <tr>\n",
       "      <th>Loan_ID</th>\n",
       "      <td>0</td>\n",
       "      <td>0.0</td>\n",
       "    </tr>\n",
       "    <tr>\n",
       "      <th>Gender</th>\n",
       "      <td>0</td>\n",
       "      <td>0.0</td>\n",
       "    </tr>\n",
       "    <tr>\n",
       "      <th>Married</th>\n",
       "      <td>0</td>\n",
       "      <td>0.0</td>\n",
       "    </tr>\n",
       "    <tr>\n",
       "      <th>Dependents</th>\n",
       "      <td>0</td>\n",
       "      <td>0.0</td>\n",
       "    </tr>\n",
       "    <tr>\n",
       "      <th>Education</th>\n",
       "      <td>0</td>\n",
       "      <td>0.0</td>\n",
       "    </tr>\n",
       "    <tr>\n",
       "      <th>Self_Employed</th>\n",
       "      <td>0</td>\n",
       "      <td>0.0</td>\n",
       "    </tr>\n",
       "    <tr>\n",
       "      <th>ApplicantIncome</th>\n",
       "      <td>0</td>\n",
       "      <td>0.0</td>\n",
       "    </tr>\n",
       "    <tr>\n",
       "      <th>CoapplicantIncome</th>\n",
       "      <td>0</td>\n",
       "      <td>0.0</td>\n",
       "    </tr>\n",
       "    <tr>\n",
       "      <th>LoanAmount</th>\n",
       "      <td>0</td>\n",
       "      <td>0.0</td>\n",
       "    </tr>\n",
       "    <tr>\n",
       "      <th>Loan_Amount_Term</th>\n",
       "      <td>0</td>\n",
       "      <td>0.0</td>\n",
       "    </tr>\n",
       "    <tr>\n",
       "      <th>Credit_History</th>\n",
       "      <td>0</td>\n",
       "      <td>0.0</td>\n",
       "    </tr>\n",
       "    <tr>\n",
       "      <th>Property_Area</th>\n",
       "      <td>0</td>\n",
       "      <td>0.0</td>\n",
       "    </tr>\n",
       "    <tr>\n",
       "      <th>Loan_Status</th>\n",
       "      <td>0</td>\n",
       "      <td>0.0</td>\n",
       "    </tr>\n",
       "  </tbody>\n",
       "</table>\n",
       "</div>"
      ],
      "text/plain": [
       "                   Total  Percent\n",
       "Loan_ID                0      0.0\n",
       "Gender                 0      0.0\n",
       "Married                0      0.0\n",
       "Dependents             0      0.0\n",
       "Education              0      0.0\n",
       "Self_Employed          0      0.0\n",
       "ApplicantIncome        0      0.0\n",
       "CoapplicantIncome      0      0.0\n",
       "LoanAmount             0      0.0\n",
       "Loan_Amount_Term       0      0.0\n",
       "Credit_History         0      0.0\n",
       "Property_Area          0      0.0\n",
       "Loan_Status            0      0.0"
      ]
     },
     "execution_count": 11,
     "metadata": {},
     "output_type": "execute_result"
    }
   ],
   "source": [
    "#missing data\n",
    "total = data.isnull().sum().sort_values(ascending=False)\n",
    "percent = (data.isnull().sum()/data.isnull().count()).sort_values(ascending=False)\n",
    "pd.concat([total, percent], axis=1, keys=['Total', 'Percent'])"
   ]
  },
  {
   "cell_type": "code",
   "execution_count": 12,
   "id": "165eb7d7-cba9-476f-bfae-8753581864a5",
   "metadata": {
    "tags": []
   },
   "outputs": [],
   "source": [
    "# Train-Test-Split   \n",
    "train, test = train_test_split(data,test_size=0.3,random_state=0)"
   ]
  },
  {
   "cell_type": "code",
   "execution_count": 13,
   "id": "d5c57425-5718-4328-9c56-efc6d79e1414",
   "metadata": {},
   "outputs": [],
   "source": [
    "# Seperate The dependent variable and Independent variables\n",
    "train_x = train.drop(columns=['Loan_ID','Loan_Status'])\n",
    "train_y = train['Loan_Status']\n",
    "test_x = test.drop(columns=['Loan_ID','Loan_Status'])\n",
    "test_y = test['Loan_Status']"
   ]
  },
  {
   "cell_type": "code",
   "execution_count": 14,
   "id": "c6acf01e-dba9-468b-9fc4-05ba79732b86",
   "metadata": {},
   "outputs": [
    {
     "name": "stdout",
     "output_type": "stream",
     "text": [
      "shape of training data :  (336, 11)\n",
      "shape of testing data :  (144, 11)\n"
     ]
    }
   ],
   "source": [
    "print('shape of training data : ',train_x.shape)\n",
    "print('shape of testing data : ',test_x.shape)"
   ]
  },
  {
   "cell_type": "code",
   "execution_count": 15,
   "id": "2d007f9f-4f70-4d90-8139-141b1e35ab04",
   "metadata": {},
   "outputs": [
    {
     "name": "stdout",
     "output_type": "stream",
     "text": [
      "shape of training data :  (336, 20)\n",
      "shape of testing data :  (144, 20)\n"
     ]
    }
   ],
   "source": [
    "# Encode The Data\n",
    "train_x = pd.get_dummies(train_x)\n",
    "test_x  = pd.get_dummies(test_x)\n",
    "print('shape of training data : ',train_x.shape)\n",
    "print('shape of testing data : ',test_x.shape)"
   ]
  },
  {
   "cell_type": "code",
   "execution_count": 16,
   "id": "e6f8dc5e-dec2-4779-ba00-7768897f5af6",
   "metadata": {},
   "outputs": [
    {
     "name": "stdout",
     "output_type": "stream",
     "text": [
      "     ApplicantIncome  CoapplicantIncome  LoanAmount  Loan_Amount_Term  \\\n",
      "454             7085                0.0        84.0             360.0   \n",
      "80              3846                0.0       111.0             360.0   \n",
      "206             3244                0.0        80.0             360.0   \n",
      "417             1600            20000.0       239.0             360.0   \n",
      "101             4843             3806.0       151.0             360.0   \n",
      "..               ...                ...         ...               ...   \n",
      "414             2149             3237.0       178.0             360.0   \n",
      "247             6608                0.0       137.0             180.0   \n",
      "152             9166                0.0       244.0             360.0   \n",
      "60              2500             3796.0       120.0             360.0   \n",
      "220             2221                0.0        60.0             360.0   \n",
      "\n",
      "     Credit_History  Gender_Female  Gender_Male  Married_No  Married_Yes  \\\n",
      "454             1.0              0            1           1            0   \n",
      "80              1.0              1            0           1            0   \n",
      "206             1.0              1            0           1            0   \n",
      "417             1.0              0            1           0            1   \n",
      "101             1.0              0            1           1            0   \n",
      "..              ...            ...          ...         ...          ...   \n",
      "414             0.0              1            0           0            1   \n",
      "247             1.0              0            1           0            1   \n",
      "152             1.0              0            1           1            0   \n",
      "60              1.0              0            1           0            1   \n",
      "220             0.0              0            1           0            1   \n",
      "\n",
      "     Dependents_0  Dependents_1  Dependents_2  Dependents_3+  \\\n",
      "454             1             0             0              0   \n",
      "80              1             0             0              0   \n",
      "206             1             0             0              0   \n",
      "417             0             0             1              0   \n",
      "101             1             0             0              0   \n",
      "..            ...           ...           ...            ...   \n",
      "414             1             0             0              0   \n",
      "247             0             1             0              0   \n",
      "152             1             0             0              0   \n",
      "60              1             0             0              0   \n",
      "220             1             0             0              0   \n",
      "\n",
      "     Education_Graduate  Education_Not Graduate  Self_Employed_No  \\\n",
      "454                   1                       0                 0   \n",
      "80                    1                       0                 1   \n",
      "206                   1                       0                 1   \n",
      "417                   1                       0                 0   \n",
      "101                   1                       0                 1   \n",
      "..                  ...                     ...               ...   \n",
      "414                   0                       1                 1   \n",
      "247                   0                       1                 1   \n",
      "152                   1                       0                 1   \n",
      "60                    1                       0                 1   \n",
      "220                   1                       0                 1   \n",
      "\n",
      "     Self_Employed_Yes  Property_Area_Rural  Property_Area_Semiurban  \\\n",
      "454                  1                    0                        1   \n",
      "80                   0                    0                        1   \n",
      "206                  0                    0                        0   \n",
      "417                  1                    0                        0   \n",
      "101                  0                    0                        1   \n",
      "..                 ...                  ...                      ...   \n",
      "414                  0                    0                        1   \n",
      "247                  0                    0                        0   \n",
      "152                  0                    0                        0   \n",
      "60                   0                    0                        0   \n",
      "220                  0                    0                        0   \n",
      "\n",
      "     Property_Area_Urban  \n",
      "454                    0  \n",
      "80                     0  \n",
      "206                    1  \n",
      "417                    1  \n",
      "101                    0  \n",
      "..                   ...  \n",
      "414                    0  \n",
      "247                    1  \n",
      "152                    1  \n",
      "60                     1  \n",
      "220                    1  \n",
      "\n",
      "[336 rows x 20 columns]\n"
     ]
    }
   ],
   "source": [
    "print(train_x)"
   ]
  },
  {
   "cell_type": "code",
   "execution_count": 25,
   "id": "3eae110a-ba82-4179-bfde-877c11d98100",
   "metadata": {
    "tags": []
   },
   "outputs": [
    {
     "name": "stdout",
     "output_type": "stream",
     "text": [
      "<class 'pandas.core.frame.DataFrame'>\n",
      "Int64Index: 336 entries, 454 to 220\n",
      "Data columns (total 20 columns):\n",
      " #   Column                   Non-Null Count  Dtype  \n",
      "---  ------                   --------------  -----  \n",
      " 0   ApplicantIncome          336 non-null    int64  \n",
      " 1   CoapplicantIncome        336 non-null    float64\n",
      " 2   LoanAmount               336 non-null    float64\n",
      " 3   Loan_Amount_Term         336 non-null    float64\n",
      " 4   Credit_History           336 non-null    float64\n",
      " 5   Gender_Female            336 non-null    uint8  \n",
      " 6   Gender_Male              336 non-null    uint8  \n",
      " 7   Married_No               336 non-null    uint8  \n",
      " 8   Married_Yes              336 non-null    uint8  \n",
      " 9   Dependents_0             336 non-null    uint8  \n",
      " 10  Dependents_1             336 non-null    uint8  \n",
      " 11  Dependents_2             336 non-null    uint8  \n",
      " 12  Dependents_3+            336 non-null    uint8  \n",
      " 13  Education_Graduate       336 non-null    uint8  \n",
      " 14  Education_Not Graduate   336 non-null    uint8  \n",
      " 15  Self_Employed_No         336 non-null    uint8  \n",
      " 16  Self_Employed_Yes        336 non-null    uint8  \n",
      " 17  Property_Area_Rural      336 non-null    uint8  \n",
      " 18  Property_Area_Semiurban  336 non-null    uint8  \n",
      " 19  Property_Area_Urban      336 non-null    uint8  \n",
      "dtypes: float64(4), int64(1), uint8(15)\n",
      "memory usage: 20.7 KB\n"
     ]
    }
   ],
   "source": [
    "train_x.info()"
   ]
  },
  {
   "cell_type": "code",
   "execution_count": 18,
   "id": "805d268d-5d89-4732-9cf9-78ffccf61dec",
   "metadata": {},
   "outputs": [
    {
     "name": "stdout",
     "output_type": "stream",
     "text": [
      "Accuracy Score on test data using Logistic Regression:  0.7569444444444444\n"
     ]
    }
   ],
   "source": [
    "# Using Logistic Regression Model\n",
    "LR = LogisticRegression()\n",
    "LR.fit(train_x,train_y)\n",
    "predict = LR.predict(test_x)\n",
    "print('Accuracy Score on test data using Logistic Regression: ', accuracy_score(test_y,predict))"
   ]
  },
  {
   "cell_type": "code",
   "execution_count": 28,
   "id": "4c08b917-6a50-416b-b72e-1178b6c61b52",
   "metadata": {
    "tags": []
   },
   "outputs": [
    {
     "ename": "KeyError",
     "evalue": "False",
     "output_type": "error",
     "traceback": [
      "\u001b[1;31m---------------------------------------------------------------------------\u001b[0m",
      "\u001b[1;31mKeyError\u001b[0m                                  Traceback (most recent call last)",
      "File \u001b[1;32m~\\AppData\\Local\\Programs\\Python\\Python39\\lib\\site-packages\\pandas\\core\\indexes\\base.py:3802\u001b[0m, in \u001b[0;36mIndex.get_loc\u001b[1;34m(self, key, method, tolerance)\u001b[0m\n\u001b[0;32m   3801\u001b[0m \u001b[38;5;28;01mtry\u001b[39;00m:\n\u001b[1;32m-> 3802\u001b[0m     \u001b[38;5;28;01mreturn\u001b[39;00m \u001b[38;5;28;43mself\u001b[39;49m\u001b[38;5;241;43m.\u001b[39;49m\u001b[43m_engine\u001b[49m\u001b[38;5;241;43m.\u001b[39;49m\u001b[43mget_loc\u001b[49m\u001b[43m(\u001b[49m\u001b[43mcasted_key\u001b[49m\u001b[43m)\u001b[49m\n\u001b[0;32m   3803\u001b[0m \u001b[38;5;28;01mexcept\u001b[39;00m \u001b[38;5;167;01mKeyError\u001b[39;00m \u001b[38;5;28;01mas\u001b[39;00m err:\n",
      "File \u001b[1;32m~\\AppData\\Local\\Programs\\Python\\Python39\\lib\\site-packages\\pandas\\_libs\\index.pyx:138\u001b[0m, in \u001b[0;36mpandas._libs.index.IndexEngine.get_loc\u001b[1;34m()\u001b[0m\n",
      "File \u001b[1;32m~\\AppData\\Local\\Programs\\Python\\Python39\\lib\\site-packages\\pandas\\_libs\\index.pyx:165\u001b[0m, in \u001b[0;36mpandas._libs.index.IndexEngine.get_loc\u001b[1;34m()\u001b[0m\n",
      "File \u001b[1;32mpandas\\_libs\\hashtable_class_helper.pxi:5745\u001b[0m, in \u001b[0;36mpandas._libs.hashtable.PyObjectHashTable.get_item\u001b[1;34m()\u001b[0m\n",
      "File \u001b[1;32mpandas\\_libs\\hashtable_class_helper.pxi:5753\u001b[0m, in \u001b[0;36mpandas._libs.hashtable.PyObjectHashTable.get_item\u001b[1;34m()\u001b[0m\n",
      "\u001b[1;31mKeyError\u001b[0m: False",
      "\nThe above exception was the direct cause of the following exception:\n",
      "\u001b[1;31mKeyError\u001b[0m                                  Traceback (most recent call last)",
      "Cell \u001b[1;32mIn[28], line 1\u001b[0m\n\u001b[1;32m----> 1\u001b[0m res \u001b[38;5;241m=\u001b[39m \u001b[43mtest_x\u001b[49m\u001b[43m[\u001b[49m\u001b[43mtest_x\u001b[49m\u001b[43m[\u001b[49m\u001b[38;5;124;43m\"\u001b[39;49m\u001b[38;5;124;43mProperty_Area_Semiurban\u001b[39;49m\u001b[38;5;124;43m\"\u001b[39;49m\u001b[43m]\u001b[49m\u001b[38;5;241;43m.\u001b[39;49m\u001b[43mequals\u001b[49m\u001b[43m(\u001b[49m\u001b[38;5;241;43m1\u001b[39;49m\u001b[43m)\u001b[49m\u001b[43m]\u001b[49m\n\u001b[0;32m      2\u001b[0m pr \u001b[38;5;241m=\u001b[39m res[res[\u001b[38;5;124m\"\u001b[39m\u001b[38;5;124mMarried_Yes\u001b[39m\u001b[38;5;124m\"\u001b[39m]\u001b[38;5;241m.\u001b[39mequals(\u001b[38;5;241m1\u001b[39m)]\n\u001b[0;32m      3\u001b[0m \u001b[38;5;28mprint\u001b[39m(pr\u001b[38;5;241m.\u001b[39mshape)\n",
      "File \u001b[1;32m~\\AppData\\Local\\Programs\\Python\\Python39\\lib\\site-packages\\pandas\\core\\frame.py:3807\u001b[0m, in \u001b[0;36mDataFrame.__getitem__\u001b[1;34m(self, key)\u001b[0m\n\u001b[0;32m   3805\u001b[0m \u001b[38;5;28;01mif\u001b[39;00m \u001b[38;5;28mself\u001b[39m\u001b[38;5;241m.\u001b[39mcolumns\u001b[38;5;241m.\u001b[39mnlevels \u001b[38;5;241m>\u001b[39m \u001b[38;5;241m1\u001b[39m:\n\u001b[0;32m   3806\u001b[0m     \u001b[38;5;28;01mreturn\u001b[39;00m \u001b[38;5;28mself\u001b[39m\u001b[38;5;241m.\u001b[39m_getitem_multilevel(key)\n\u001b[1;32m-> 3807\u001b[0m indexer \u001b[38;5;241m=\u001b[39m \u001b[38;5;28;43mself\u001b[39;49m\u001b[38;5;241;43m.\u001b[39;49m\u001b[43mcolumns\u001b[49m\u001b[38;5;241;43m.\u001b[39;49m\u001b[43mget_loc\u001b[49m\u001b[43m(\u001b[49m\u001b[43mkey\u001b[49m\u001b[43m)\u001b[49m\n\u001b[0;32m   3808\u001b[0m \u001b[38;5;28;01mif\u001b[39;00m is_integer(indexer):\n\u001b[0;32m   3809\u001b[0m     indexer \u001b[38;5;241m=\u001b[39m [indexer]\n",
      "File \u001b[1;32m~\\AppData\\Local\\Programs\\Python\\Python39\\lib\\site-packages\\pandas\\core\\indexes\\base.py:3804\u001b[0m, in \u001b[0;36mIndex.get_loc\u001b[1;34m(self, key, method, tolerance)\u001b[0m\n\u001b[0;32m   3802\u001b[0m     \u001b[38;5;28;01mreturn\u001b[39;00m \u001b[38;5;28mself\u001b[39m\u001b[38;5;241m.\u001b[39m_engine\u001b[38;5;241m.\u001b[39mget_loc(casted_key)\n\u001b[0;32m   3803\u001b[0m \u001b[38;5;28;01mexcept\u001b[39;00m \u001b[38;5;167;01mKeyError\u001b[39;00m \u001b[38;5;28;01mas\u001b[39;00m err:\n\u001b[1;32m-> 3804\u001b[0m     \u001b[38;5;28;01mraise\u001b[39;00m \u001b[38;5;167;01mKeyError\u001b[39;00m(key) \u001b[38;5;28;01mfrom\u001b[39;00m \u001b[38;5;21;01merr\u001b[39;00m\n\u001b[0;32m   3805\u001b[0m \u001b[38;5;28;01mexcept\u001b[39;00m \u001b[38;5;167;01mTypeError\u001b[39;00m:\n\u001b[0;32m   3806\u001b[0m     \u001b[38;5;66;03m# If we have a listlike key, _check_indexing_error will raise\u001b[39;00m\n\u001b[0;32m   3807\u001b[0m     \u001b[38;5;66;03m#  InvalidIndexError. Otherwise we fall through and re-raise\u001b[39;00m\n\u001b[0;32m   3808\u001b[0m     \u001b[38;5;66;03m#  the TypeError.\u001b[39;00m\n\u001b[0;32m   3809\u001b[0m     \u001b[38;5;28mself\u001b[39m\u001b[38;5;241m.\u001b[39m_check_indexing_error(key)\n",
      "\u001b[1;31mKeyError\u001b[0m: False"
     ]
    }
   ],
   "source": [
    "\n",
    "res = test_x[test_x[\"Property_Area_Semiurban\"].equals(1)]\n",
    "pr = res[res[\"Married_Yes\"].equals(1)]\n",
    "print(pr.shape)\n",
    "pr = pd.get_dummies(pr)\n",
    "###############################################\n",
    "###############################################\n",
    "LRR = LogisticRegression()\n",
    "LRR.fit(train_x,train_y)\n",
    "\n",
    "predictt = LRR.predict(pr)\n",
    "print('Accuracy Score on test data using Logistic Regression: ', accuracy_score(test_y,predictt))"
   ]
  },
  {
   "cell_type": "code",
   "execution_count": null,
   "id": "6af81eca-9bb4-48ac-9345-d1c3c6f10888",
   "metadata": {},
   "outputs": [],
   "source": [
    "# Confusion Matrix for Logistic Regression  \n",
    "cm = metrics.confusion_matrix(test_y, predict)\n",
    "print('Confusion Matrix for Logistic Regression :\\n', cm, '\\n')\n",
    "fig, ax = plt.subplots(figsize=(6.5, 6.5))\n",
    "ax.matshow(cm, cmap=plt.cm.Blues, alpha=0.5)\n",
    "for i in range(cm.shape[0]):\n",
    "    for j in range(cm.shape[1]):\n",
    "        ax.text(x=j, y=i,s=cm[i, j], va='center', ha='center', size='xx-large')\n",
    " \n",
    "plt.xlabel('Predictions', fontsize=18)\n",
    "plt.ylabel('Actuals', fontsize=18)\n",
    "plt.title('The Confusion Matrix', fontsize=18)\n",
    "plt.show()"
   ]
  },
  {
   "cell_type": "code",
   "execution_count": null,
   "id": "37e43739-4dbe-4175-8300-0eaca12a57bb",
   "metadata": {},
   "outputs": [],
   "source": [
    "# Using SVC Model\n",
    "svc = SVC(kernel=\"linear\")\n",
    "svc.fit(train_x,train_y)\n",
    "predict = svc.predict(test_x)\n",
    "print('Accuracy Score on test data using SVC: ', accuracy_score(test_y,predict))"
   ]
  },
  {
   "cell_type": "code",
   "execution_count": null,
   "id": "e9e90897-5b05-41a3-832d-0196020b0ae8",
   "metadata": {
    "tags": []
   },
   "outputs": [],
   "source": [
    "# Using ID3 Model\n",
    "DT = DecisionTreeClassifier(max_depth=(7), random_state=0)\n",
    "DT.fit(train_x,train_y)\n",
    "predict = DT.predict(test_x)\n",
    "print('Accuracy Score on test data using ID3 : ', accuracy_score(test_y,predict))"
   ]
  },
  {
   "cell_type": "code",
   "execution_count": null,
   "id": "bf2838f5-980b-493c-8be4-33e374dbfc73",
   "metadata": {},
   "outputs": [],
   "source": [
    "# Using KNN Model\n",
    "KNN = KNeighborsClassifier(n_neighbors=7)  \n",
    "KNN.fit(train_x,train_y)\n",
    "predict = KNN.predict(test_x)\n",
    "print('Accuracy Score on test data using KNN: ', accuracy_score(test_y,predict))"
   ]
  },
  {
   "cell_type": "code",
   "execution_count": null,
   "id": "92e9a2a8-3e72-4e55-8e57-5fab6624b30c",
   "metadata": {
    "tags": []
   },
   "outputs": [],
   "source": [
    "# To find a optimum value of K we plot a graph of error rate vs K value ranging from 0 to 40\n",
    "error_rate = []\n",
    "for i in range(1,40):\n",
    "    kNN = KNeighborsClassifier(n_neighbors=i)\n",
    "    kNN.fit(train_x,train_y)\n",
    "    predict_i = kNN.predict(test_x)\n",
    "    error_rate.append(np.mean(predict_i != test_y))\n",
    "    \n",
    "plt.figure(figsize=(10,6))\n",
    "plt.plot(range(1,40),error_rate,color='blue', linestyle='dashed', marker='o',\n",
    "         markerfacecolor='red', markersize=10)\n",
    "plt.title('Error Rate vs. K Value', fontsize=18)\n",
    "plt.xlabel('K', fontsize=18)\n",
    "plt.ylabel('Error Rate', fontsize=18)\n",
    "plt.show()"
   ]
  }
 ],
 "metadata": {
  "kernelspec": {
   "display_name": "Python 3 (ipykernel)",
   "language": "python",
   "name": "python3"
  },
  "language_info": {
   "codemirror_mode": {
    "name": "ipython",
    "version": 3
   },
   "file_extension": ".py",
   "mimetype": "text/x-python",
   "name": "python",
   "nbconvert_exporter": "python",
   "pygments_lexer": "ipython3",
   "version": "3.9.7"
  }
 },
 "nbformat": 4,
 "nbformat_minor": 5
}
